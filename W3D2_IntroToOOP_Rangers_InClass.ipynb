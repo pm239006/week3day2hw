{
 "cells": [
  {
   "cell_type": "markdown",
   "metadata": {},
   "source": [
    "# Object-Oriented-Programming (OOP)"
   ]
  },
  {
   "cell_type": "markdown",
   "metadata": {},
   "source": [
    "## Tasks Today:\n",
    "\n",
    "   \n",
    "\n",
    "1) <b>Creating a Class (Initializing/Declaring)</b> <br>\n",
    "2) <b>Using a Class (Instantiating)</b> <br>\n",
    " &nbsp;&nbsp;&nbsp;&nbsp; a) Creating One Instance <br>\n",
    " &nbsp;&nbsp;&nbsp;&nbsp; b) Creating Multiple Instances <br>\n",
    " &nbsp;&nbsp;&nbsp;&nbsp; c) In-Class Exercise #1 - Create a Class 'Car' and instantiate three different makes of cars <br>\n",
    "3) <b>The \\__init\\__() Method</b> <br>\n",
    " &nbsp;&nbsp;&nbsp;&nbsp; a) The 'self' Attribute <br>\n",
    "4) <b>Class Attributes</b> <br>\n",
    " &nbsp;&nbsp;&nbsp;&nbsp; a) Initializing Attributes <br>\n",
    " &nbsp;&nbsp;&nbsp;&nbsp; b) Setting an Attribute Outside of the \\__init\\__() Method <br>\n",
    " &nbsp;&nbsp;&nbsp;&nbsp; c) Setting Defaults for Attributes <br>\n",
    " &nbsp;&nbsp;&nbsp;&nbsp; d) Accessing Class Attributes <br>\n",
    " &nbsp;&nbsp;&nbsp;&nbsp; e) Changing Class Attributes <br>\n",
    " &nbsp;&nbsp;&nbsp;&nbsp; f) In-Class Exercise #2 - Add a color and wheels attribute to your 'Car' class <br>\n",
    "5) <b>Class Methods</b> <br>\n",
    " &nbsp;&nbsp;&nbsp;&nbsp; a) Creating <br>\n",
    " &nbsp;&nbsp;&nbsp;&nbsp; b) Calling <br>\n",
    " &nbsp;&nbsp;&nbsp;&nbsp; c) Modifying an Attribute's Value Through a Method <br>\n",
    " &nbsp;&nbsp;&nbsp;&nbsp; d) Incrementing an Attribute's Value Through a Method <br>\n",
    " &nbsp;&nbsp;&nbsp;&nbsp; e) In-Class Exercise #3 - Add a method that prints the cars color and wheel number, then call them <br>\n",
    "6) <b>Inheritance</b> <br>\n",
    " &nbsp;&nbsp;&nbsp;&nbsp; a) Syntax for Inheriting from a Parent Class <br>\n",
    " &nbsp;&nbsp;&nbsp;&nbsp; b) The \\__init\\__() Method for a Child Class (super()) <br>\n",
    " &nbsp;&nbsp;&nbsp;&nbsp; c) Defining Attributes and Methods for the Child Class <br>\n",
    " &nbsp;&nbsp;&nbsp;&nbsp; d) Method Overriding <br>\n",
    " &nbsp;&nbsp;&nbsp;&nbsp; e) In-Class Exercise #4 - Create a class 'Ford' that inherits from 'Car' class and initialize it as a Blue Ford Explorer with 4 wheels using the super() method <br>\n",
    "7) <b>Encapsulation</b> <br>\n",
    " &nbsp;&nbsp;&nbsp;&nbsp; a) Public Access Modifier <br>\n",
    " &nbsp;&nbsp;&nbsp;&nbsp; b) Protected Access Modifier <br>\n",
    " &nbsp;&nbsp;&nbsp;&nbsp; c) Private Access Modifier <br>\n",
    "8) <b>Classes as Attributes</b> <br>\n",
    "9) <b>Exercises</b> <br>\n",
    " &nbsp;&nbsp;&nbsp;&nbsp; a) Exercise #1 - Turn the shopping cart program from last week into an object-oriented program <br>"
   ]
  },
  {
   "cell_type": "markdown",
   "metadata": {},
   "source": [
    "## Creating a Class (Initializing/Declaring)\n",
    "<p>When creating a class, function, or even a variable you are initializing that object. Initializing and Declaring occur at the same time in Python, whereas in lower level languages you have to declare an object before initializing it. This is the first step in the process of using a class.</p>"
   ]
  },
  {
   "cell_type": "code",
   "execution_count": 130,
   "metadata": {},
   "outputs": [],
   "source": [
    "# using the class keyword, PascalCase the class name \n",
    "class Car():\n",
    "\n",
    "    #create some class attr's \n",
    "    wheels = 4\n",
    "    color = \"blue\"\n",
    "    "
   ]
  },
  {
   "cell_type": "markdown",
   "metadata": {},
   "source": [
    "## Using a Class (Instantiating)\n",
    "<p>The process of creating a class is called <i>Instantiating</i>. Each time you create a variable of that type of class, it is referred to as an <i>Instance</i> of that class. This is the second step in the process of using a class.</p>"
   ]
  },
  {
   "cell_type": "markdown",
   "metadata": {},
   "source": [
    "##### Creating One Instance"
   ]
  },
  {
   "cell_type": "code",
   "execution_count": 4,
   "metadata": {},
   "outputs": [
    {
     "name": "stdout",
     "output_type": "stream",
     "text": [
      "4\n",
      "blue\n",
      "{'__module__': '__main__', 'wheels': 4, 'color': 'blue', '__dict__': <attribute '__dict__' of 'Car' objects>, '__weakref__': <attribute '__weakref__' of 'Car' objects>, '__doc__': None}\n"
     ]
    }
   ],
   "source": [
    "class Car():\n",
    "\n",
    "    #create some class attr's \n",
    "    wheels = 4\n",
    "    color = \"blue\"\n",
    "    \n",
    "\n",
    "ford = Car()\n",
    "print(ford.wheels)\n",
    "print(ford.color)\n",
    "\n",
    "print(Car.__dict__)\n"
   ]
  },
  {
   "cell_type": "markdown",
   "metadata": {},
   "source": [
    "##### Creating Multiple Instances"
   ]
  },
  {
   "cell_type": "code",
   "execution_count": 6,
   "metadata": {},
   "outputs": [
    {
     "name": "stdout",
     "output_type": "stream",
     "text": [
      "blue\n"
     ]
    }
   ],
   "source": [
    "honda = Car() #these are called objects \n",
    "mazda = Car()\n",
    "subaru = Car()\n",
    "\n",
    "print(mazda.color)"
   ]
  },
  {
   "cell_type": "markdown",
   "metadata": {},
   "source": [
    "##### In-Class Exercise #1 - Create a Class 'Car' and Instantiate three different makes of cars"
   ]
  },
  {
   "cell_type": "code",
   "execution_count": null,
   "metadata": {},
   "outputs": [],
   "source": [
    "class Car():\n",
    "    def __init__(self,wheels,color,doors,special,make):\n",
    "        self.wheels = wheels\n",
    "        self.color = color\n",
    "        self.doors = doors\n",
    "        self.special = special\n",
    "        self.make = make\n",
    "    "
   ]
  },
  {
   "cell_type": "code",
   "execution_count": null,
   "metadata": {},
   "outputs": [],
   "source": []
  },
  {
   "cell_type": "code",
   "execution_count": null,
   "metadata": {},
   "outputs": [],
   "source": []
  },
  {
   "cell_type": "code",
   "execution_count": null,
   "metadata": {},
   "outputs": [],
   "source": []
  },
  {
   "cell_type": "markdown",
   "metadata": {},
   "source": [
    "## The \\__init\\__() Method <br>\n",
    "<p>This method is used in almost every created class, and called only once upon the creation of the class instance. This method will initialize all variables needed for the object.</p>"
   ]
  },
  {
   "cell_type": "code",
   "execution_count": 12,
   "metadata": {},
   "outputs": [],
   "source": [
    "class Car():\n",
    "    def __init__(self,wheels,color,door):\n",
    "        self.wheels = wheels  #object attrs\n",
    "        self.color = color    #object attrs\n",
    "        self.doors = door     #object attrs"
   ]
  },
  {
   "cell_type": "code",
   "execution_count": 13,
   "metadata": {},
   "outputs": [
    {
     "name": "stdout",
     "output_type": "stream",
     "text": [
      "red\n",
      "tan\n"
     ]
    }
   ],
   "source": [
    "ford = Car(4, 'red' , 2)\n",
    "mazda = Car (4, 'black' , 2)\n",
    "subaru = Car(4, 'tan' , 4)\n",
    "\n",
    "print(ford.color)\n",
    "print(subaru.color)"
   ]
  },
  {
   "cell_type": "markdown",
   "metadata": {},
   "source": [
    "##### The 'self' Attribute <br>\n",
    "<p>This attribute is required to keep track of specific instance's attributes. Without the self attribute, the program would not know how to reference or keep track of an instance's attributes.</p>"
   ]
  },
  {
   "cell_type": "code",
   "execution_count": 37,
   "metadata": {},
   "outputs": [
    {
     "name": "stdout",
     "output_type": "stream",
     "text": [
      "Charmander\n"
     ]
    }
   ],
   "source": [
    "class Pokemon():\n",
    "\n",
    "    def __init__(self, name, type_):\n",
    "        self.name = name\n",
    "        self.type = type_\n",
    "        \n",
    "    def print_info(self):\n",
    "        print(f\"This is {self.name}. It is a {self.type_}type\")\n",
    "\n",
    "charmander = Pokemon('Charmander','fire')\n",
    "print(charmander.name)\n",
    "\n",
    "# charmander.print_info() #dot method. aka a function specific to that object/class type\n",
    "\n",
    "\n",
    "\n",
    "\n"
   ]
  },
  {
   "cell_type": "markdown",
   "metadata": {},
   "source": [
    "## Class Attributes <br>\n",
    "<p>While variables are inside of a class, they are referred to as attributes and not variables. When someone says 'attribute' you know they're speaking about a class. Attributes can be initialized through the init method, or outside of it.</p>"
   ]
  },
  {
   "cell_type": "markdown",
   "metadata": {},
   "source": [
    "##### Initializing Attributes"
   ]
  },
  {
   "cell_type": "code",
   "execution_count": 30,
   "metadata": {},
   "outputs": [],
   "source": [
    "bulbasaur = Pokemon(\"Bulbasaur\",\"Grass\")"
   ]
  },
  {
   "cell_type": "markdown",
   "metadata": {},
   "source": [
    "##### Accessing Class Attributes"
   ]
  },
  {
   "cell_type": "code",
   "execution_count": 39,
   "metadata": {
    "scrolled": true
   },
   "outputs": [
    {
     "data": {
      "text/plain": [
       "{'name': 'Bulbasaur', 'type': 'Grass'}"
      ]
     },
     "execution_count": 39,
     "metadata": {},
     "output_type": "execute_result"
    }
   ],
   "source": [
    "bulbasaur.name    #accessing specific attrs \n",
    "bulbasaur.type\n",
    "\n",
    "bulbasaur.__dict__# accessing all your attrs inside your __init__()method"
   ]
  },
  {
   "cell_type": "markdown",
   "metadata": {},
   "source": [
    "##### Setting Defaults for Attributes"
   ]
  },
  {
   "cell_type": "code",
   "execution_count": 40,
   "metadata": {},
   "outputs": [],
   "source": [
    "# 2 ways of setting default attrs aka parameters\n",
    "\n",
    "class Car():\n",
    "    def __init__(self,wheels,color):\n",
    "        self.wheels = wheels\n",
    "        self.color = 'Blue' #one way of setting defaukt attrs when you dont want the option to instantiate with them, could be blank too\n",
    "\n",
    "\n",
    "honda = Car(4)\n"
   ]
  },
  {
   "cell_type": "code",
   "execution_count": 42,
   "metadata": {},
   "outputs": [
    {
     "name": "stdout",
     "output_type": "stream",
     "text": [
      "Blue\n",
      "4\n",
      "red\n"
     ]
    }
   ],
   "source": [
    "class Car():\n",
    "    def __init__(self,wheels=4,color=\"Blue\"):  # default attrs if you want the option to instantiate w them \n",
    "        self.wheels = wheels\n",
    "        self.color = color\n",
    "\n",
    "ford = Car()\n",
    "\n",
    "subaru = Car(6,\"red\")\n",
    "\n",
    "print(ford.color)\n",
    "print(ford.wheels)\n",
    "print(subaru.color)"
   ]
  },
  {
   "cell_type": "markdown",
   "metadata": {},
   "source": [
    "##### Changing Class Attributes <br>\n",
    "<p>Keep in mind there are global class attributes and then there are attributes only available to each class instance which won't effect other classes.</p>"
   ]
  },
  {
   "cell_type": "code",
   "execution_count": 43,
   "metadata": {},
   "outputs": [],
   "source": [
    "# all vars inside of classes are local to that class, however they are accessible anywhere inside that class \n",
    "\n",
    "class Car():\n",
    "    TYPE = 'car' #class attr but its also a constant, denoted by all CAPS, we should never be changing this \n",
    "\n",
    "    def __init__(self,wheels):\n",
    "        self.wheels = wheels \n",
    "        self.color = 'Blue'\n"
   ]
  },
  {
   "cell_type": "code",
   "execution_count": 45,
   "metadata": {},
   "outputs": [],
   "source": [
    "honda = Car(4)"
   ]
  },
  {
   "cell_type": "markdown",
   "metadata": {},
   "source": [
    "##### In-Class Exercise #2 - Add two new attributes to your 'Car' class then print out two different instances with different doors and seats. Then take that bad boy to the shop and change those attributes. Either with an input or just by changing them"
   ]
  },
  {
   "cell_type": "code",
   "execution_count": 50,
   "metadata": {},
   "outputs": [
    {
     "name": "stdout",
     "output_type": "stream",
     "text": [
      "black\n"
     ]
    },
    {
     "ename": "TypeError",
     "evalue": "Car.change_color() missing 1 required positional argument: 'color'",
     "output_type": "error",
     "traceback": [
      "\u001b[0;31m---------------------------------------------------------------------------\u001b[0m",
      "\u001b[0;31mTypeError\u001b[0m                                 Traceback (most recent call last)",
      "Cell \u001b[0;32mIn[50], line 21\u001b[0m\n\u001b[1;32m     18\u001b[0m honda \u001b[38;5;241m=\u001b[39m Car(\u001b[38;5;124m'\u001b[39m\u001b[38;5;124mHonda\u001b[39m\u001b[38;5;124m'\u001b[39m , \u001b[38;5;124m'\u001b[39m\u001b[38;5;124mCRV\u001b[39m\u001b[38;5;124m'\u001b[39m , \u001b[38;5;241m2023\u001b[39m, \u001b[38;5;124m'\u001b[39m\u001b[38;5;124mblack\u001b[39m\u001b[38;5;124m'\u001b[39m)\n\u001b[1;32m     19\u001b[0m \u001b[38;5;28mprint\u001b[39m(honda\u001b[38;5;241m.\u001b[39mcolor)\n\u001b[0;32m---> 21\u001b[0m \u001b[43mhonda\u001b[49m\u001b[38;5;241;43m.\u001b[39;49m\u001b[43mchange_color\u001b[49m\u001b[43m(\u001b[49m\u001b[43m)\u001b[49m\n\u001b[1;32m     22\u001b[0m \u001b[38;5;28mprint\u001b[39m(honda\u001b[38;5;241m.\u001b[39mcolor)\n\u001b[1;32m     24\u001b[0m ford \u001b[38;5;241m=\u001b[39m Car(\u001b[38;5;124m'\u001b[39m\u001b[38;5;124mFord\u001b[39m\u001b[38;5;124m'\u001b[39m , \u001b[38;5;124m'\u001b[39m\u001b[38;5;124mEscape\u001b[39m\u001b[38;5;124m'\u001b[39m , \u001b[38;5;241m2020\u001b[39m, \u001b[38;5;124m'\u001b[39m\u001b[38;5;124mgrey\u001b[39m\u001b[38;5;124m'\u001b[39m)\n",
      "\u001b[0;31mTypeError\u001b[0m: Car.change_color() missing 1 required positional argument: 'color'"
     ]
    }
   ],
   "source": [
    "# class Car():\n",
    "#     wheels = 4\n",
    "\n",
    "#     def __init__(self,make,model,year,color,doors=4,seats=5):\n",
    "#         self.make = make \n",
    "#         self.model = model\n",
    "#         self.year = year \n",
    "#         self.color = color\n",
    "#         self.doors = doors\n",
    "#         self.seats = seats \n",
    "\n",
    "\n",
    "#     def change_color(self,color):     #changing attrs by using a method inside of a class \n",
    "#         color = input('What is the color of your car? ')\n",
    "#         self.color = color\n",
    "        \n",
    "\n",
    "# honda = Car('Honda' , 'CRV' , 2023, 'black')\n",
    "# print(honda.color)\n",
    "\n",
    "# honda.change_color()\n",
    "# print(honda.color)\n",
    "\n",
    "# ford = Car('Ford' , 'Escape' , 2020, 'grey')\n",
    "# print(f\"My {ford.make}{ford.model} is {ford.color} with {ford.doors} doors and {ford.seats} seats\")\n"
   ]
  },
  {
   "cell_type": "markdown",
   "metadata": {},
   "source": [
    "## Class Methods <br>\n",
    "<p>While inside of a class, functions are referred to as 'methods'. If you hear someone mention methods, they're speaking about classes. Methods are essentially functions, but only callable on the instances of a class.</p>"
   ]
  },
  {
   "cell_type": "markdown",
   "metadata": {},
   "source": [
    "##### Creating"
   ]
  },
  {
   "cell_type": "code",
   "execution_count": 129,
   "metadata": {},
   "outputs": [],
   "source": [
    "# class Bus():\n",
    "\n",
    "#     \"\"\"\n",
    "#     class Bus will have attrs: doors, seats, seats availible, color, and bus driver\n",
    "\n",
    "#     ATTR types:\n",
    "#     - doors: integer\n",
    "#     - seats: integer\n",
    "#     - seats_availible : integer \n",
    "#     - color: string\n",
    "#     - bus_driver : string\n",
    "#     \"\"\"\n",
    "\n",
    "#     def __init__(self,doors,seats,seats_availible,color, bus_driver):\n",
    "#         self.doors = doors \n",
    "#         self.seats = seats \n",
    "#         self.seats_availible = seats_availible \n",
    "#         self.color = color \n",
    "#         self.bus_driver = bus_driver \n",
    "\n",
    "# # decrement the # of seats availible when someone gets on the bus \n",
    "#     def load_passenger(self):\n",
    "\n",
    "#         if seats.seats_availible <= 0:\n",
    "#             print(\"This bus is full!\")\n",
    "#         else: \n",
    "#             passengers = int(input(\"how many passengers are getting on today> \"))\n",
    "#             if self.seats_availble - passengers < 0:\n",
    "#                 print(\"you are trying to load too many passengers\")\n",
    "# #                       else: \n",
    "# #                 self.seats_availible -= passengers\n",
    "\n",
    "#     print(\"{passengers} passengers have boarded. there are {self.seats_availible} seats left on the bus!\")\n",
    "\n",
    "\n",
    "\n",
    "\n",
    "\n",
    "\n",
    "# class Bus():\n",
    "#     \"\"\"\n",
    "#     The buss will have doors, seats, seats available, color, and a bus driver\n",
    "    \n",
    "#     Attributes for the bus:\n",
    "#     -doors: integer\n",
    "#     -seats: integer\n",
    "#     -seats_available: integer\n",
    "#     -color: string\n",
    "#     -bus_driver: string\n",
    "    \n",
    "#     \"\"\"\n",
    "#     def __init__(self, doors, seats, seats_available, color, bus_driver):\n",
    "#         self.doors = doors\n",
    "#         self.seats = seats\n",
    "#         self.seats_available = seats_available\n",
    "#         self.color = color\n",
    "#         self.bus_driver = bus_driver\n",
    "        \n",
    "#     # decrement the number of seats available\n",
    "#     def load_passengers(self):\n",
    "#         if self.seats_available <= 0:\n",
    "#             print(\"This bus is full! You can't take any more passengers :(\")\n",
    "#             if self.seats_available < 0:\n",
    "#                 print(f\"You left {abs(self.seats_available)} by the road!\")\n",
    "#                 self.seats_available = 0\n",
    "#         else:\n",
    "#             passengers = int(input(\"How man passengers are getting on? \"))\n",
    "#             self.seats_available -= passengers\n",
    "#             if self.seats_available < 0:\n",
    "#                 print(f\"You left {abs(self.seats_available)} by the road!\")\n",
    "#                 self.seats_available = 0\n",
    "#             print(f\"{passengers} passengers have boarded. There are {self.seats_available} seats available left on the bus!\")\n",
    "            \n",
    "#     # increment the number of seats available\n",
    "#     def unload_passengers(self):\n",
    "#         if self.seats_available >= self.seats:\n",
    "#             print(\"There is no one on the bus to unload!\")\n",
    "#         else:\n",
    "#             unload = int(input(\"How many passengers are getting off the bus?\" ))\n",
    "#             self.seats_available += unload\n",
    "#             if self.seats_available >= self.seats:\n",
    "#                 self.seats_available = self.seats\n",
    "                \n",
    "#             print(f\"{unload} passengers have left the bus. There are {self.seats_available} left\")\n",
    "            \n",
    "#     #change the bus_driver attribute\n",
    "#     def change_driver(self):\n",
    "#         change = input(\"Who is replacing you? \")\n",
    "#         self.bus_driver = change\n",
    "#         print(f\"The new bus driver is {self.bus_driver}. Be sure to thank them!\")\n",
    "        \n",
    "#     #display available seats\n",
    "#     def check_seats(self):\n",
    "#         print(f\"There are {self.seats_available} seats available\")\n",
    "        \n",
    "#     #display bus color\n",
    "#     def admire_bus(self):\n",
    "#         print(f\"Would ya just look at that beautiful {self.color} bus! WOULD YA JUST LOOK AT IT!\")\n",
    "        \n",
    "        "
   ]
  },
  {
   "cell_type": "markdown",
   "metadata": {},
   "source": [
    "##### Calling"
   ]
  },
  {
   "cell_type": "code",
   "execution_count": 80,
   "metadata": {},
   "outputs": [
    {
     "ename": "IndentationError",
     "evalue": "unindent does not match any outer indentation level (<tokenize>, line 10)",
     "output_type": "error",
     "traceback": [
      "\u001b[0;36m  File \u001b[0;32m<tokenize>:10\u001b[0;36m\u001b[0m\n\u001b[0;31m    elif response == 'load':\u001b[0m\n\u001b[0m    ^\u001b[0m\n\u001b[0;31mIndentationError\u001b[0m\u001b[0;31m:\u001b[0m unindent does not match any outer indentation level\n"
     ]
    }
   ],
   "source": [
    "# def run():\n",
    "#     pri_bus = Bus (2 , 100, 100, 'red' ,'Pri')\n",
    "\n",
    "# while True: \n",
    "#     response = input(\"what would you like to do today? Load/Unload/Change Driver/Check Seats/Admire/Quit? \").lower().strip()\n",
    "\n",
    "#        if response == 'quit' :\n",
    "#             print(\"Oh no! There are still passengers to be picked up! Dont leave them hanging\")\n",
    "#             break\n",
    "#         elif response == 'load':\n",
    "#             pri_bus.load_passengers()\n",
    "#         elif response == 'unload' :\n",
    "#             pri_bus.unload_passengers()\n",
    "#         elif response == {'change', 'change driver'} :\n",
    "#             pri_bus.change_driver()\n",
    "#         elif response == {'check', 'check seats'} :\n",
    "#             pri_bus.check_seats()\n",
    "#         elif admire == ' admire ' :\n",
    "#             pri_bus.admire_bus()\n",
    "#         else: \n",
    "#             print('Not a vaild response. pls try again.')\n",
    "# run()\n"
   ]
  },
  {
   "cell_type": "markdown",
   "metadata": {},
   "source": [
    "##### Modifying an Attribute's Value Through a Method"
   ]
  },
  {
   "cell_type": "code",
   "execution_count": null,
   "metadata": {},
   "outputs": [],
   "source": [
    "# see above\n",
    "# load_passengers()\n",
    "# unload_passengers()\n",
    "# change_driver()"
   ]
  },
  {
   "cell_type": "markdown",
   "metadata": {},
   "source": [
    "##### Incrementing an Attribute's Value Through a Method"
   ]
  },
  {
   "cell_type": "code",
   "execution_count": null,
   "metadata": {},
   "outputs": [],
   "source": [
    "#unload_passengers()"
   ]
  },
  {
   "cell_type": "markdown",
   "metadata": {},
   "source": [
    "##### In-Class Exercise #3 - Add a method that takes in three parameters of year, doors and seats and prints out a formatted print statement with make, model, year, seats, and doors"
   ]
  },
  {
   "cell_type": "code",
   "execution_count": 93,
   "metadata": {},
   "outputs": [],
   "source": [
    "# Create class with 2 paramters inside of the __init__ which are make and model, more if you'd like\n",
    "\n",
    "# Create two methods for your class\n",
    "\n",
    "# Create a method that alters an attribute for your class\n",
    "\n",
    "# Display method that prints information about the vehicle\n",
    "\n",
    "# Output: This car is from 2019 and is a Ford Expolorer and has 4 doors and 5 seats\n",
    "\n",
    "# reminder in order to call class methods object.method()\n",
    "\n",
    "\n",
    "# class Car():\n",
    "#     def __init__(self, make, model,doors,seats):\n",
    "#         self.make = make\n",
    "#         self.model = model\n",
    "#         self.doors = 4\n",
    "#         self.seats = 5\n",
    "#     \"\"\"\n",
    "#     The Cars will have make, model, doors, seats\n",
    "    \n",
    "#     Attributes for the bus:\n",
    "#     - make : string\n",
    "#     - model : string \n",
    "#     - doors : integer\n",
    "#     - seats : 5\n",
    "#     \"\"\"\n",
    "#     def admire_car():\n",
    "#         if Car.color() == \"grey\" or \"gray\":\n",
    "#             print(\"This car is {self.color} which is the best color!\")\n",
    "#         else: print(\"This is a {self.color} car.\")\n",
    "\n",
    "#         def display_info(self):\n",
    "#             print(f\"This car is a {self.make} {self.model} and has {self.doors} doors and {self.seats} seats\")"
   ]
  },
  {
   "cell_type": "markdown",
   "metadata": {},
   "source": [
    "## Inheritance <br>\n",
    "<p>You can create a child-parent relationship between two classes by using inheritance. What this allows you to do is have overriding methods, but also inherit traits from the parent class. Think of it as an actual parent and child, the child will inherit the parent's genes, as will the classes in OOP</p>"
   ]
  },
  {
   "cell_type": "markdown",
   "metadata": {},
   "source": [
    "##### Syntax for Inheriting from a Parent Class"
   ]
  },
  {
   "cell_type": "code",
   "execution_count": 101,
   "metadata": {},
   "outputs": [],
   "source": [
    "# creation of a parent class \n",
    "\n",
    "class Animal():    ACCELERATION: 9.8 #constant class attr\n",
    "\n",
    "    def __init__(self,name,species,legs=4):\n",
    "        self.name = name\n",
    "        self.species = species\n",
    "        self.legs = 4\n",
    "\n",
    "#generic parent method \n",
    "    def make_sound(self):\n",
    "        print(\"REEEEEEEEEEEEE\")"
   ]
  },
  {
   "cell_type": "markdown",
   "metadata": {},
   "source": [
    "##### The \\__init\\__() Method for a Child Class - super()"
   ]
  },
  {
   "cell_type": "code",
   "execution_count": 116,
   "metadata": {
    "scrolled": true
   },
   "outputs": [
    {
     "name": "stdout",
     "output_type": "stream",
     "text": [
      "Lassy accelerates at 9.8 and has 4 legs.\n"
     ]
    }
   ],
   "source": [
    "# creation of a child class inheriting from parent class \n",
    "\n",
    "\n",
    "class Animal():   \n",
    "    \n",
    "        ACCELERATION =9.8 #constant class attr\n",
    "\n",
    "        def __init__(self,name,species,legs=4):\n",
    "            self.name = name\n",
    "            self.species = species\n",
    "            self.legs = 4\n",
    "\n",
    "#generic parent method \n",
    "        def make_sound(self):\n",
    "            print(\"REEEEEEEEEEEEE\")\n",
    "\n",
    "\n",
    "class Dog(Animal):\n",
    "    def __init__(self, name, species = \"Dog\"):\n",
    "        super().__init__(name,species)   #super is calling the parent class aka (Animal)\n",
    "    def print_info(self):\n",
    "        print(f\"{self.name} accelerates at {self.ACCELERATION} and has {self.legs} legs.\")\n",
    "\n",
    "lassy = Dog('Lassy')\n",
    "lassy.print_info()\n",
    "\n",
    "\n"
   ]
  },
  {
   "cell_type": "markdown",
   "metadata": {},
   "source": [
    "##### Defining Attributes and Methods for the Child Class"
   ]
  },
  {
   "cell_type": "code",
   "execution_count": null,
   "metadata": {},
   "outputs": [],
   "source": [
    "# See Above"
   ]
  },
  {
   "cell_type": "markdown",
   "metadata": {},
   "source": [
    "##### Method Overriding"
   ]
  },
  {
   "cell_type": "code",
   "execution_count": null,
   "metadata": {},
   "outputs": [],
   "source": [
    "# See Above"
   ]
  },
  {
   "cell_type": "markdown",
   "metadata": {},
   "source": [
    "## Encapsulation\n"
   ]
  },
  {
   "cell_type": "markdown",
   "metadata": {},
   "source": [
    "<p>Encapsulation is one of the fundamental concepts in object-oriented programming (OOP). It describes the idea of wrapping data and the methods that work on data within one unit. This puts restrictions on accessing variables and methods directly and can prevent the accidental modification of data. f"
   ]
  },
  {
   "cell_type": "markdown",
   "metadata": {},
   "source": [
    "### Access Modifiers\n"
   ]
  },
  {
   "cell_type": "markdown",
   "metadata": {},
   "source": [
    "#### Public\n",
    "<p> Attributes & methods default to public in classes. Meaning they can be accessed from anywhere. "
   ]
  },
  {
   "cell_type": "code",
   "execution_count": 1,
   "metadata": {},
   "outputs": [],
   "source": [
    "#see above. All attributes & methods in the previous examples are public"
   ]
  },
  {
   "cell_type": "markdown",
   "metadata": {},
   "source": [
    "#### Protected \n",
    "<p>Protected attributes are denoted with a singular '_' underscore. Attributes & methods that are protected are only accessible in the class it derived from and any inherited classes. "
   ]
  },
  {
   "cell_type": "code",
   "execution_count": null,
   "metadata": {},
   "outputs": [],
   "source": []
  },
  {
   "cell_type": "markdown",
   "metadata": {},
   "source": [
    "#### Private \n",
    "<p>Private attributes are denoted with a double '__' underscore. Attributes & methods that are private are only accessible in the class it was derived from making them the most secure. "
   ]
  },
  {
   "cell_type": "code",
   "execution_count": null,
   "metadata": {},
   "outputs": [],
   "source": []
  },
  {
   "cell_type": "markdown",
   "metadata": {},
   "source": [
    "## Classes as Attributes <br>\n",
    "<p>Classes can also be used as attributes within another class. This is useful in situations where you need to keep variables locally stored, instead of globally stored.</p>"
   ]
  },
  {
   "cell_type": "code",
   "execution_count": null,
   "metadata": {},
   "outputs": [],
   "source": []
  },
  {
   "cell_type": "markdown",
   "metadata": {},
   "source": [
    "### Generators in Classes"
   ]
  },
  {
   "cell_type": "code",
   "execution_count": null,
   "metadata": {},
   "outputs": [],
   "source": []
  },
  {
   "cell_type": "markdown",
   "metadata": {},
   "source": [
    "# Exercises"
   ]
  },
  {
   "cell_type": "markdown",
   "metadata": {},
   "source": [
    "### Exercise 1 - Turn the shopping cart program from last week into an object-oriented program\n",
    "\n",
    "The comments in the cell below are there as a guide for thinking about the problem. However, if you feel a different way is best for you and your own thought process, please do what feels best for you by all means."
   ]
  },
  {
   "cell_type": "code",
   "execution_count": null,
   "metadata": {},
   "outputs": [],
   "source": [
    "# Create a class called cart that retains items and has methods to add, remove, and show\n",
    "\n",
    "class Cart():\n",
    "    pass\n",
    "    "
   ]
  },
  {
   "cell_type": "markdown",
   "metadata": {},
   "source": [
    "### Exercise 1 Option 2 - Create A Video Game Character Class using Object-Oriented Programming\n",
    "<p>The character class should have the following attributes: character type (i.e. ogre, human, elf, etc), health points, attack points, weapons (list or dictionary). The class should also have the following methods to deplete health points, regain health points, add or remove weapons, and show character stats.\n",
    "    "
   ]
  },
  {
   "cell_type": "code",
   "execution_count": 196,
   "metadata": {},
   "outputs": [
    {
     "name": "stdout",
     "output_type": "stream",
     "text": [
      "{'name': 'pri', 'type_': 'fairy', 'weapon': 'laser'}\n"
     ]
    }
   ],
   "source": [
    "\n",
    "class Character():\n",
    "    attack = (1,2)\n",
    "    health = 1.0\n",
    "    def __init__(self,name,type_,weapon,health):\n",
    "        self.name = name\n",
    "        self.type_ = type_\n",
    "        self.weapon = weapon\n",
    "        isAlive = True\n",
    "    \n",
    "    def player_name(self):\n",
    "        self.name = input(\"Name: \") \n",
    "        \n",
    "    def player(self):\n",
    "         self.type_ = input(\"Chose from the following characters - fairy, butterfly or princess:  (can only be one of these values)\")\n",
    "    \n",
    "    def weapon(self):\n",
    "        self.weapon = input( \"Chose from weapons arsenal: laser, BowAndArrow, hammer: (can only be one of these values)\") \n",
    "\n",
    "    def health(self):\n",
    "        self.health = 1.0\n",
    "        if self.health >= 1.0:\n",
    "            print(\"You are 100% healthy, it's time to make moves!\")\n",
    "        else:\n",
    "            if self.health <= 0:\n",
    "                print(\"Uh oh you may need a power up!\")\n",
    "\n",
    "    def lose_pts(self):\n",
    "        self.health = self.health - value \n",
    "        \n",
    "    \n",
    "    def power_up(self):\n",
    "        self.health = self.health + value\n",
    "\n",
    "\n",
    "    def change_weapons(self):\n",
    "        change = input(\"Chose from weapons arsenal: laser, BowAndArrow, hammer: (can only be one of these values)\") \n",
    "        self.weapon = change\n",
    "        print(f\"Your new weapon is the: {self.weapon}\")\n",
    "\n",
    "def run():\n",
    "    self.name = name.Capitalize()\n",
    "    self.type_ = type_.lower()\n",
    "    self.weapon = weapon.lower()\n",
    "\n",
    "char = Character(\"pri\",\"fairy\",\"laser\", 100)\n",
    "print(char.__dict__)"
   ]
  },
  {
   "cell_type": "markdown",
   "metadata": {},
   "source": [
    "### Exercise 2 - Write a Python class which has two methods get_String and print_String. get_String accept a string from the user and print_String print the string in upper case"
   ]
  },
  {
   "cell_type": "code",
   "execution_count": 160,
   "metadata": {},
   "outputs": [],
   "source": [
    "class Travel():\n",
    "    YEAR: 2023 \n",
    "\n",
    "    def __init__(self,name,city,travel):\n",
    "        self.name = name\n",
    "        self.city = city \n",
    "        self.travel = travel\n",
    "\n",
    "    def get_location(self):\n",
    "        get_city = input(\"What city did you travel to? \")\n",
    "        self.city = get_city\n",
    "\n",
    "    def get_transport(self):\n",
    "        transportation = input(\"How did you travel there? (Boat, Bus, Plane, Train, Car, etc)\")\n",
    "        self.travel = transportation    \n",
    "\n",
    "    def print_info(Self):\n",
    "        print(f\"My name is {self.name} and in {YEAR}, I have traveled to {self.city} by {self.travel}. It was lit!\")\n",
    "        # return print_info(Person_1)\n",
    "        return print_info().upper()\n",
    "Person_1 = Travel('Priscilla', 'Medellin', 'Plane') "
   ]
  },
  {
   "cell_type": "code",
   "execution_count": null,
   "metadata": {},
   "outputs": [],
   "source": []
  },
  {
   "cell_type": "code",
   "execution_count": null,
   "metadata": {},
   "outputs": [],
   "source": []
  }
 ],
 "metadata": {
  "kernelspec": {
   "display_name": "Python 3 (ipykernel)",
   "language": "python",
   "name": "python3"
  },
  "language_info": {
   "codemirror_mode": {
    "name": "ipython",
    "version": 3
   },
   "file_extension": ".py",
   "mimetype": "text/x-python",
   "name": "python",
   "nbconvert_exporter": "python",
   "pygments_lexer": "ipython3",
   "version": "3.11.4"
  }
 },
 "nbformat": 4,
 "nbformat_minor": 4
}
